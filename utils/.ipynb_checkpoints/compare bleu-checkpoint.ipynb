{
 "cells": [
  {
   "cell_type": "code",
   "execution_count": 1,
   "metadata": {},
   "outputs": [],
   "source": [
    "# Initialization Cell\n",
    "path = 'C:\\\\Users\\\\under\\\\Jupyter-Projects\\\\My-Research\\\\On-the-Curse-of-Sentence-Length\\\\data-bin\\\\out_balanced_conv.txt'"
   ]
  },
  {
   "cell_type": "code",
   "execution_count": 2,
   "metadata": {},
   "outputs": [],
   "source": [
    "from metric.bleu import bleu\n",
    "import preprocess\n",
    "import time\n",
    "\n",
    "import warnings\n",
    "warnings.filterwarnings(\"ignore\")"
   ]
  },
  {
   "cell_type": "code",
   "execution_count": 3,
   "metadata": {},
   "outputs": [],
   "source": [
    "def calc_time(start_time):\n",
    "    total = time.time() - start_time\n",
    "    print(f'{int(total/60)} minutes and {int(total%60)} seconds')"
   ]
  },
  {
   "cell_type": "code",
   "execution_count": 4,
   "metadata": {},
   "outputs": [
    {
     "data": {
      "text/plain": [
       "(49254, 3)"
      ]
     },
     "execution_count": 4,
     "metadata": {},
     "output_type": "execute_result"
    }
   ],
   "source": [
    "output = preprocess.loadFairseqOutput(path)\n",
    "output.shape"
   ]
  },
  {
   "cell_type": "code",
   "execution_count": 6,
   "metadata": {},
   "outputs": [
    {
     "name": "stdout",
     "output_type": "stream",
     "text": [
      "(0.1851784884929657, 1.0, 0.1851784884929657)\n",
      "2 minutes and 47 seconds\n"
     ]
    }
   ],
   "source": [
    "from torchtext.data import bleu_score\n",
    "start_time = time.time()\n",
    "print(bleu_score(output[:,2], output[:,1]))\n",
    "calc_time(start_time)"
   ]
  },
  {
   "cell_type": "code",
   "execution_count": 15,
   "metadata": {},
   "outputs": [
    {
     "name": "stdout",
     "output_type": "stream",
     "text": [
      "3.099368733130856e-156\n",
      "5 minutes and 38 seconds\n"
     ]
    }
   ],
   "source": [
    "from nltk.translate import bleu_score\n",
    "start_time = time.time()\n",
    "print(bleu_score.corpus_bleu(output[:,2], output[:,1]))\n",
    "calc_time(start_time)"
   ]
  },
  {
   "cell_type": "code",
   "execution_count": 6,
   "metadata": {},
   "outputs": [
    {
     "name": "stdout",
     "output_type": "stream",
     "text": [
      "[0.19552338123321533, 0.9473081827163696, 0.1852208971977234]\n",
      "1 minutes and 7 seconds\n"
     ]
    }
   ],
   "source": [
    "start_time = time.time()\n",
    "print(bleu.bleu_corpus(output[:,2].tolist(), output[:,1].tolist(), 4))\n",
    "calc_time(start_time)"
   ]
  },
  {
   "cell_type": "code",
   "execution_count": null,
   "metadata": {},
   "outputs": [],
   "source": []
  }
 ],
 "metadata": {
  "kernelspec": {
   "display_name": "Python 3",
   "language": "python",
   "name": "python3"
  },
  "language_info": {
   "codemirror_mode": {
    "name": "ipython",
    "version": 3
   },
   "file_extension": ".py",
   "mimetype": "text/x-python",
   "name": "python",
   "nbconvert_exporter": "python",
   "pygments_lexer": "ipython3",
   "version": "3.7.3"
  }
 },
 "nbformat": 4,
 "nbformat_minor": 2
}
