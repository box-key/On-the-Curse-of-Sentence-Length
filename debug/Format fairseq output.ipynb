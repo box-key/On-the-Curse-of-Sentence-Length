{
 "cells": [
  {
   "cell_type": "code",
   "execution_count": 1,
   "metadata": {},
   "outputs": [],
   "source": [
    "path = 'C:\\\\Users\\\\under\\\\GitHub\\\\On-the-Curse-of-Sentence-Length\\\\out.txt'"
   ]
  },
  {
   "cell_type": "code",
   "execution_count": 3,
   "metadata": {},
   "outputs": [],
   "source": [
    "import numpy as np"
   ]
  },
  {
   "cell_type": "code",
   "execution_count": 4,
   "metadata": {},
   "outputs": [],
   "source": [
    "out = open(path, mode='rt', encoding='utf-8').read().strip().split('\\n')"
   ]
  },
  {
   "cell_type": "code",
   "execution_count": 5,
   "metadata": {},
   "outputs": [
    {
     "data": {
      "text/plain": [
       "120474"
      ]
     },
     "execution_count": 5,
     "metadata": {},
     "output_type": "execute_result"
    }
   ],
   "source": [
    "len(out)"
   ]
  },
  {
   "cell_type": "code",
   "execution_count": 95,
   "metadata": {
    "scrolled": true
   },
   "outputs": [],
   "source": [
    "out[:8]\n",
    "out_red = out[7:-4]"
   ]
  },
  {
   "cell_type": "code",
   "execution_count": 96,
   "metadata": {},
   "outputs": [],
   "source": [
    "n = 4\n",
    "out_pair = [out_red[i * n:(i + 1) * n] for i in range((len(out_red) + n - 1) // n )]"
   ]
  },
  {
   "cell_type": "code",
   "execution_count": 93,
   "metadata": {},
   "outputs": [
    {
     "data": {
      "text/plain": [
       "30117"
      ]
     },
     "execution_count": 93,
     "metadata": {},
     "output_type": "execute_result"
    }
   ],
   "source": [
    "len(out_pair)"
   ]
  },
  {
   "cell_type": "code",
   "execution_count": 9,
   "metadata": {},
   "outputs": [
    {
     "name": "stdout",
     "output_type": "stream",
     "text": [
      "['S-11722\\t', 'T-11722\\t<<unk>> <<unk>> est nécessaire <<unk>> des modifications structurelles aux <<unk>> un délai limite de six mois sera <<unk>>', 'H-11722\\t-2.477929473284364\\tLe Conseil de l&apos; Europe', 'P-11722\\t-5.0288 -4.9506 -2.3406 -1.1004 -0.1102 -1.3370']\n",
      "['S-13133\\t', 'T-13133\\tAvec un carnet de commandes riche de 2 <<unk>> <<unk>> son plan de charge est assuré pour plusieurs <<unk>>', 'H-13133\\t-2.477929473284364\\tLe Conseil de l&apos; Europe', 'P-13133\\t-5.0288 -4.9506 -2.3406 -1.1004 -0.1102 -1.3370']\n",
      "['S-11834\\t', 'T-11834\\t- Madame la <<unk>> deux points méritent une attention particulière dans ce <<unk>>', 'H-11834\\t-2.477929473284364\\tLe Conseil de l&apos; Europe', 'P-11834\\t-5.0288 -4.9506 -2.3406 -1.1004 -0.1102 -1.3370']\n",
      "['S-27196\\t', 'T-27196\\tLa <<unk>> devrait élaborer une stratégie plus claire concernant les relations avec nos <<unk>>', 'H-27196\\t-2.477929473284364\\tLe Conseil de l&apos; Europe', 'P-27196\\t-5.0288 -4.9506 -2.3406 -1.1004 -0.1102 -1.3370']\n",
      "['S-25607\\t', 'T-25607\\tÀ cet <<unk>> les remarques que le Haut représentant a faites étaient extrêmement <<unk>>', 'H-25607\\t-2.477929473284364\\tLe Conseil de l&apos; Europe', 'P-25607\\t-5.0288 -4.9506 -2.3406 -1.1004 -0.1102 -1.3370']\n"
     ]
    }
   ],
   "source": [
    "for i in range(5):\n",
    "    print(out_pair[i])"
   ]
  },
  {
   "cell_type": "code",
   "execution_count": 10,
   "metadata": {},
   "outputs": [
    {
     "name": "stdout",
     "output_type": "stream",
     "text": [
      "['S-11722', '']\n",
      "['T-11722', '<<unk>> <<unk>> est nécessaire <<unk>> des modifications structurelles aux <<unk>> un délai limite de six mois sera <<unk>>']\n",
      "['H-11722', '-2.477929473284364', 'Le Conseil de l&apos; Europe']\n"
     ]
    }
   ],
   "source": [
    "print(out_pair[0][0].split('\\t'))\n",
    "print(out_pair[0][1].split('\\t'))\n",
    "print(out_pair[0][2].split('\\t'))"
   ]
  },
  {
   "cell_type": "code",
   "execution_count": 11,
   "metadata": {},
   "outputs": [
    {
     "data": {
      "text/plain": [
       "array([list(['']),\n",
       "       list(['<<unk>>', '<<unk>>', 'est', 'nécessaire', '<<unk>>', 'des', 'modifications', 'structurelles', 'aux', '<<unk>>', 'un', 'délai', 'limite', 'de', 'six', 'mois', 'sera', '<<unk>>']),\n",
       "       list(['Le', 'Conseil', 'de', 'l&apos;', 'Europe'])], dtype=object)"
      ]
     },
     "execution_count": 11,
     "metadata": {},
     "output_type": "execute_result"
    }
   ],
   "source": [
    "src = out_pair[0][0].split('\\t')[1].split(' ')\n",
    "ref = out_pair[0][1].split('\\t')[1].split(' ')\n",
    "hyp = out_pair[0][2].split('\\t')[2].split(' ')\n",
    "np.array([src, ref, hyp])"
   ]
  },
  {
   "cell_type": "code",
   "execution_count": 13,
   "metadata": {},
   "outputs": [
    {
     "name": "stdout",
     "output_type": "stream",
     "text": [
      "The autoreload extension is already loaded. To reload it, use:\n",
      "  %reload_ext autoreload\n"
     ]
    },
    {
     "data": {
      "text/plain": [
       "(0.7788007830714049, 0.40824827551841736, 0.3179440766612941)"
      ]
     },
     "execution_count": 13,
     "metadata": {},
     "output_type": "execute_result"
    }
   ],
   "source": [
    "from torchtext.data.metrics import bleu_score\n",
    "%load_ext autoreload\n",
    "%autoreload 2\n",
    "\n",
    "hypothesis =  [['I', 'ate', 'the', 'apple']]\n",
    "reference = [['I', 'ate', 'it', 'and', 'that']]\n",
    "bleu_score(hypothesis, reference, max_n=2, weights=[0.5]*2)"
   ]
  },
  {
   "cell_type": "code",
   "execution_count": 14,
   "metadata": {},
   "outputs": [
    {
     "data": {
      "text/plain": [
       "(0,)"
      ]
     },
     "execution_count": 14,
     "metadata": {},
     "output_type": "execute_result"
    }
   ],
   "source": [
    "matrix = []\n",
    "for i in range(10):\n",
    "    src = out_pair[0][0].split('\\t')[1].split(' ')\n",
    "    ref = out_pair[0][1].split('\\t')[1].split(' ')\n",
    "    hyp = out_pair[0][2].split('\\t')[2].split(' ')\n",
    "    if len(src) > 1 and len(ref) > 1 and len(hyp) > 1:\n",
    "        matrix.append([src, ref, hyp])\n",
    "arr = np.array(matrix)\n",
    "arr.shape"
   ]
  },
  {
   "cell_type": "code",
   "execution_count": 15,
   "metadata": {},
   "outputs": [
    {
     "data": {
      "text/plain": [
       "30116"
      ]
     },
     "execution_count": 15,
     "metadata": {},
     "output_type": "execute_result"
    }
   ],
   "source": [
    "len(out_pair[:-1])"
   ]
  },
  {
   "cell_type": "code",
   "execution_count": 16,
   "metadata": {},
   "outputs": [
    {
     "data": {
      "text/plain": [
       "30117"
      ]
     },
     "execution_count": 16,
     "metadata": {},
     "output_type": "execute_result"
    }
   ],
   "source": [
    "len(out_pair)"
   ]
  },
  {
   "cell_type": "code",
   "execution_count": 17,
   "metadata": {},
   "outputs": [
    {
     "data": {
      "text/plain": [
       "['2020-03-15 16:30:31 | INFO | fairseq_cli.generate | NOTE: hypothesis and token scores are output in base 2',\n",
       " '2020-03-15 16:30:31 | INFO | fairseq_cli.generate | Translated 30116 sentences (902896 tokens) in 10490.6s (2.87 sentences/s, 86.07 tokens/s)',\n",
       " '2020-03-15 16:30:31 | INFO | fairseq_cli.generate | Generate test with beam=3: BLEU4 = 17.88, 40.7/21.9/13.4/8.5 (BP=1.000, ratio=1.109, syslen=872780, reflen=786915)']"
      ]
     },
     "execution_count": 17,
     "metadata": {},
     "output_type": "execute_result"
    }
   ],
   "source": [
    "out_pair[-1]"
   ]
  },
  {
   "cell_type": "code",
   "execution_count": 123,
   "metadata": {
    "scrolled": true
   },
   "outputs": [
    {
     "name": "stdout",
     "output_type": "stream",
     "text": [
      "(29842, 3)\n"
     ]
    }
   ],
   "source": [
    "# arr[src, ref, hyp]\n",
    "# src=en, ref=hyp=fr\n",
    "matrix = []\n",
    "for pair in out_pair:\n",
    "    src = pair[0].split('\\t')[1].split(' ')\n",
    "    ref = pair[1].split('\\t')[1].split(' ')\n",
    "    hyp = pair[2].split('\\t')[2].split(' ')\n",
    "    if len(src) > 1 and len(ref) > 1 and len(hyp) > 1:\n",
    "        matrix.append([src, ref, hyp])\n",
    "arr = np.array(matrix)\n",
    "print(arr.shape)"
   ]
  },
  {
   "cell_type": "code",
   "execution_count": 19,
   "metadata": {},
   "outputs": [
    {
     "name": "stdout",
     "output_type": "stream",
     "text": [
      "29842 29842 29842\n"
     ]
    }
   ],
   "source": [
    "print(len(arr[:,0]),len(arr[:,1]),len(arr[:,2]))"
   ]
  },
  {
   "cell_type": "code",
   "execution_count": 20,
   "metadata": {},
   "outputs": [
    {
     "data": {
      "text/plain": [
       "(1.0, 0.2988787591457367, 0.2988787591457367)"
      ]
     },
     "execution_count": 20,
     "metadata": {},
     "output_type": "execute_result"
    }
   ],
   "source": [
    "bleu_score(arr[:,2], arr[:,1], max_n=2, weights=[0.5]*2)"
   ]
  },
  {
   "cell_type": "code",
   "execution_count": null,
   "metadata": {},
   "outputs": [],
   "source": [
    "bleu_score(arr[:,2], arr[:,1], max_n=2, weights=[0.5]*2)"
   ]
  },
  {
   "cell_type": "code",
   "execution_count": 21,
   "metadata": {},
   "outputs": [
    {
     "name": "stdout",
     "output_type": "stream",
     "text": [
      "103.4395147778299\n",
      "4.035823287406683\n"
     ]
    }
   ],
   "source": [
    "from models.EditDistance import edit_distance\n",
    "\n",
    "print(edit_distance(arr[:,2], arr[:,1], normalize=False))\n",
    "print(edit_distance(arr[:,2], arr[:,1], normalize=True))"
   ]
  },
  {
   "cell_type": "code",
   "execution_count": 43,
   "metadata": {},
   "outputs": [
    {
     "data": {
      "text/plain": [
       "17"
      ]
     },
     "execution_count": 43,
     "metadata": {},
     "output_type": "execute_result"
    }
   ],
   "source": [
    "from models import ModelEvaluation as md\n",
    "\n",
    "a= md.splitDatabySentenceLength(arr, 10, choice='src')\n",
    "len(a)"
   ]
  },
  {
   "cell_type": "code",
   "execution_count": 47,
   "metadata": {},
   "outputs": [
    {
     "name": "stdout",
     "output_type": "stream",
     "text": [
      "####### 0 words - 3322 sentences#######\n",
      "####### 10 words - 8885 sentences#######\n",
      "####### 20 words - 8318 sentences#######\n",
      "####### 30 words - 4907 sentences#######\n",
      "####### 40 words - 2425 sentences#######\n",
      "####### 50 words - 1076 sentences#######\n",
      "####### 60 words - 495 sentences#######\n",
      "####### 70 words - 225 sentences#######\n",
      "####### 80 words - 98 sentences#######\n",
      "####### 90 words - 49 sentences#######\n",
      "####### 100 words - 17 sentences#######\n",
      "####### 110 words - 2 sentences#######\n",
      "####### 120 words - 4 sentences#######\n",
      "####### 130 words - 5 sentences#######\n",
      "####### 140 words - 11 sentences#######\n",
      "####### 150 words - 1 sentences#######\n",
      "####### 160 words - 2 sentences#######\n"
     ]
    }
   ],
   "source": [
    "for count, li in enumerate(a.values()):\n",
    "    print(f'####### {count*10} words - {len(li)} sentences#######')"
   ]
  },
  {
   "cell_type": "code",
   "execution_count": 58,
   "metadata": {},
   "outputs": [
    {
     "name": "stdout",
     "output_type": "stream",
     "text": [
      "[list(['<unk>', 'relations']) list(['Relations', '<<unk>>'])\n",
      " list(['de', 'la', 'sécurité'])]\n",
      "0\n",
      "0\n"
     ]
    }
   ],
   "source": [
    "print(a[0][10])\n",
    "print(a[0][10][0].count(r'<unk>|<<unk>>'))\n",
    "print(a[0][10][1].count(r'<unk>|<<unk>>'))"
   ]
  },
  {
   "cell_type": "code",
   "execution_count": 89,
   "metadata": {},
   "outputs": [
    {
     "data": {
      "text/plain": [
       "12"
      ]
     },
     "execution_count": 89,
     "metadata": {},
     "output_type": "execute_result"
    }
   ],
   "source": [
    "from models import ModelEvaluation as md\n",
    "\n",
    "b= md.splitDatabyNumberOfUnknowns(arr, tick=3, choice='src')\n",
    "len(b)"
   ]
  },
  {
   "cell_type": "code",
   "execution_count": 90,
   "metadata": {},
   "outputs": [
    {
     "name": "stdout",
     "output_type": "stream",
     "text": [
      "####### 0 unk words - 13289 sentences#######\n",
      "####### 3 unk words - 12196 sentences#######\n",
      "####### 6 unk words - 3335 sentences#######\n",
      "####### 9 unk words - 763 sentences#######\n",
      "####### 12 unk words - 180 sentences#######\n",
      "####### 15 unk words - 52 sentences#######\n",
      "####### 18 unk words - 1 sentences#######\n",
      "####### 21 unk words - 16 sentences#######\n",
      "####### 24 unk words - 1 sentences#######\n",
      "####### 27 unk words - 7 sentences#######\n",
      "####### 30 unk words - 1 sentences#######\n",
      "####### 33 unk words - 1 sentences#######\n"
     ]
    }
   ],
   "source": [
    "for count, li in enumerate(b.values()):\n",
    "    print(f'####### {count*3} unk words - {len(li)} sentences#######')"
   ]
  },
  {
   "cell_type": "code",
   "execution_count": 84,
   "metadata": {},
   "outputs": [
    {
     "name": "stdout",
     "output_type": "stream",
     "text": [
      "39\n"
     ]
    },
    {
     "data": {
      "text/plain": [
       "['Italy',\n",
       " '<unk>',\n",
       " 'by',\n",
       " 'Mr',\n",
       " '<unk>',\n",
       " 'and',\n",
       " '<unk>',\n",
       " 'on',\n",
       " 'behalf',\n",
       " 'of',\n",
       " 'the',\n",
       " 'PPE',\n",
       " '<unk>',\n",
       " 'on',\n",
       " 'the',\n",
       " '<unk>',\n",
       " 'disaster',\n",
       " 'in',\n",
       " 'the',\n",
       " 'Italian',\n",
       " 'provinces',\n",
       " 'of',\n",
       " '<unk>',\n",
       " '<unk>',\n",
       " 'and',\n",
       " '<unk>',\n",
       " '<unk>',\n",
       " 'by',\n",
       " 'Mr',\n",
       " '<unk>',\n",
       " 'and',\n",
       " '<unk>',\n",
       " 'on',\n",
       " 'behalf',\n",
       " 'of',\n",
       " 'the',\n",
       " '<unk>',\n",
       " '<unk>',\n",
       " 'on',\n",
       " 'the',\n",
       " 'floods',\n",
       " 'in',\n",
       " '<unk>',\n",
       " '<unk>',\n",
       " '<unk>',\n",
       " 'by',\n",
       " 'Mr',\n",
       " '<unk>',\n",
       " 'on',\n",
       " 'behalf',\n",
       " 'of',\n",
       " 'the',\n",
       " '<unk>',\n",
       " '<unk>',\n",
       " 'on',\n",
       " 'the',\n",
       " 'tragedy',\n",
       " 'in',\n",
       " 'the',\n",
       " '<unk>',\n",
       " 'region',\n",
       " 'of',\n",
       " '<unk>',\n",
       " '<unk>',\n",
       " 'by',\n",
       " 'Mr',\n",
       " '<unk>',\n",
       " 'and',\n",
       " '<unk>',\n",
       " 'on',\n",
       " 'behalf',\n",
       " 'of',\n",
       " 'the',\n",
       " 'PSE',\n",
       " '<unk>',\n",
       " 'on',\n",
       " 'floods',\n",
       " 'in',\n",
       " '<unk>',\n",
       " '<unk>',\n",
       " 'by',\n",
       " 'Mr',\n",
       " '<unk>',\n",
       " 'and',\n",
       " '<unk>',\n",
       " 'on',\n",
       " 'behalf',\n",
       " 'of',\n",
       " 'the',\n",
       " '<unk>',\n",
       " '<unk>',\n",
       " 'on',\n",
       " 'the',\n",
       " 'flooding',\n",
       " 'of',\n",
       " '5',\n",
       " 'May',\n",
       " '1998',\n",
       " 'in',\n",
       " '<unk>',\n",
       " '<unk>',\n",
       " '<unk>',\n",
       " 'by',\n",
       " 'Mr',\n",
       " '<unk>',\n",
       " 'and',\n",
       " '<unk>',\n",
       " 'on',\n",
       " 'behalf',\n",
       " 'of',\n",
       " 'the',\n",
       " 'V',\n",
       " '<unk>',\n",
       " 'on',\n",
       " 'the',\n",
       " 'flooding',\n",
       " 'in',\n",
       " '<unk>',\n",
       " '<unk>']"
      ]
     },
     "execution_count": 84,
     "metadata": {},
     "output_type": "execute_result"
    }
   ],
   "source": [
    "print(b[3][0][0].count('<unk>'))\n",
    "b[3][0][0]"
   ]
  },
  {
   "cell_type": "code",
   "execution_count": 144,
   "metadata": {},
   "outputs": [
    {
     "data": {
      "text/plain": [
       "numpy.ndarray"
      ]
     },
     "execution_count": 144,
     "metadata": {},
     "output_type": "execute_result"
    }
   ],
   "source": [
    "data = md.loadFairseqOutput(path)\n",
    "type(data)"
   ]
  },
  {
   "cell_type": "code",
   "execution_count": 124,
   "metadata": {
    "scrolled": true
   },
   "outputs": [
    {
     "name": "stdout",
     "output_type": "stream",
     "text": [
      "# of unks: 0 - # of sentences: 13289\n",
      "Edit distance: 3.8952680687995063\n",
      "\n",
      "# of unks: 3 - # of sentences: 12196\n",
      "Edit distance: 4.110805181247404\n",
      "\n",
      "# of unks: 6 - # of sentences: 3335\n",
      "Edit distance: 4.205797865829334\n",
      "\n",
      "# of unks: 9 - # of sentences: 763\n",
      "Edit distance: 4.447225203004894\n",
      "\n",
      "# of unks: 12 - # of sentences: 180\n",
      "Edit distance: 4.249541616731467\n",
      "\n",
      "# of unks: 15 - # of sentences: 52\n",
      "Edit distance: 4.446389569500742\n",
      "\n",
      "# of unks: 27 - # of sentences: 1\n",
      "Edit distance: 5.175\n",
      "\n",
      "# of unks: 18 - # of sentences: 16\n",
      "Edit distance: 4.450390840631336\n",
      "\n",
      "# of unks: 54 - # of sentences: 1\n",
      "Edit distance: 7.166666666666667\n",
      "\n",
      "# of unks: 21 - # of sentences: 7\n",
      "Edit distance: 4.28599286219785\n",
      "\n",
      "# of unks: 39 - # of sentences: 1\n",
      "Edit distance: 4.569536423841059\n",
      "\n",
      "# of unks: 30 - # of sentences: 1\n",
      "Edit distance: 3.623318385650224\n",
      "\n"
     ]
    }
   ],
   "source": [
    "tick=3\n",
    "c=md.splitDatabyNumberOfUnknowns(data, tick=tick, choice='src')\n",
    "\n",
    "for key, value in c.items():\n",
    "    print(f'# of unks: {key*tick} - # of data: {len(value)}')\n",
    "    arr = np.array(value)\n",
    "    score = edit_distance(arr[:,2], arr[:,1], normalize=True)\n",
    "    print(f'Edit distance: {score}\\n')"
   ]
  },
  {
   "cell_type": "code",
   "execution_count": 142,
   "metadata": {
    "scrolled": true
   },
   "outputs": [
    {
     "name": "stdout",
     "output_type": "stream",
     "text": [
      "sentence length: 0 - # of data: 3322\n",
      "Bleu score: (1.0, 0.14607016742229462, 0.14607016742229462)\n",
      "\n",
      "sentence length: 10 - # of data: 8885\n",
      "Bleu score: (1.0, 0.17291192710399628, 0.17291192710399628)\n",
      "\n",
      "sentence length: 20 - # of data: 8318\n",
      "Bleu score: (1.0, 0.17774327099323273, 0.17774327099323273)\n",
      "\n",
      "sentence length: 30 - # of data: 4907\n",
      "Bleu score: (1.0, 0.18400487303733826, 0.18400487303733826)\n",
      "\n",
      "sentence length: 40 - # of data: 2425\n",
      "Bleu score: (1.0, 0.183012455701828, 0.183012455701828)\n",
      "\n",
      "sentence length: 50 - # of data: 1076\n",
      "Bleu score: (1.0, 0.18173913657665253, 0.18173913657665253)\n",
      "\n",
      "sentence length: 60 - # of data: 495\n",
      "Bleu score: (1.0, 0.18087035417556763, 0.18087035417556763)\n",
      "\n",
      "sentence length: 70 - # of data: 225\n",
      "Bleu score: (1.0, 0.18013808131217957, 0.18013808131217957)\n",
      "\n",
      "sentence length: 80 - # of data: 98\n",
      "Bleu score: (1.0, 0.18167725205421448, 0.18167725205421448)\n",
      "\n",
      "sentence length: 90 - # of data: 49\n",
      "Bleu score: (1.0, 0.17992323637008667, 0.17992323637008667)\n",
      "\n",
      "sentence length: 100 - # of data: 17\n",
      "Bleu score: (1.0, 0.1451391577720642, 0.1451391577720642)\n",
      "\n",
      "sentence length: 150 - # of data: 2\n",
      "Bleu score: (1.0, 0.17587725818157196, 0.17587725818157196)\n",
      "\n",
      "sentence length: 130 - # of data: 4\n",
      "Bleu score: (1.0, 0.09583703428506851, 0.09583703428506851)\n",
      "\n",
      "sentence length: 120 - # of data: 5\n",
      "Bleu score: (1.0, 0.27043387293815613, 0.27043387293815613)\n",
      "\n",
      "sentence length: 110 - # of data: 11\n",
      "Bleu score: (0.8858235885471786, 0.20672842860221863, 0.1831249184791365)\n",
      "\n",
      "sentence length: 190 - # of data: 1\n",
      "Bleu score: (0.8913661439068313, 0.20122510194778442, 0.17936524318045563)\n",
      "\n",
      "sentence length: 160 - # of data: 2\n",
      "Bleu score: (1.0, 0.23906713724136353, 0.23906713724136353)\n",
      "\n"
     ]
    }
   ],
   "source": [
    "tick=10\n",
    "d=md.splitDatabySentenceLength(data, tick=tick, choice='src')\n",
    "for key, value in d.items():\n",
    "    print(f'sentence length: {key*tick} - # of data: {len(value)}')\n",
    "    arr = np.array(value)\n",
    "    score = bleu_score(arr[:,2], arr[:,1])\n",
    "    print(f'Bleu score: {score}\\n')"
   ]
  },
  {
   "cell_type": "code",
   "execution_count": 143,
   "metadata": {
    "scrolled": true
   },
   "outputs": [
    {
     "name": "stdout",
     "output_type": "stream",
     "text": [
      "sentence length: 0 - # of data: 3173\n",
      "Bleu score: (1.0, 0.12927497923374176, 0.12927497923374176)\n",
      "\n",
      "sentence length: 10 - # of data: 8244\n",
      "Bleu score: (1.0, 0.1605353057384491, 0.1605353057384491)\n",
      "\n",
      "sentence length: 20 - # of data: 8103\n",
      "Bleu score: (1.0, 0.176372230052948, 0.176372230052948)\n",
      "\n",
      "sentence length: 30 - # of data: 5219\n",
      "Bleu score: (1.0, 0.18318277597427368, 0.18318277597427368)\n",
      "\n",
      "sentence length: 40 - # of data: 2706\n",
      "Bleu score: (1.0, 0.18816982209682465, 0.18816982209682465)\n",
      "\n",
      "sentence length: 50 - # of data: 1298\n",
      "Bleu score: (1.0, 0.190720334649086, 0.190720334649086)\n",
      "\n",
      "sentence length: 60 - # of data: 593\n",
      "Bleu score: (1.0, 0.18638838827610016, 0.18638838827610016)\n",
      "\n",
      "sentence length: 70 - # of data: 256\n",
      "Bleu score: (1.0, 0.19637282192707062, 0.19637282192707062)\n",
      "\n",
      "sentence length: 80 - # of data: 128\n",
      "Bleu score: (1.0, 0.18608026206493378, 0.18608026206493378)\n",
      "\n",
      "sentence length: 90 - # of data: 62\n",
      "Bleu score: (1.0, 0.19959509372711182, 0.19959509372711182)\n",
      "\n",
      "sentence length: 100 - # of data: 32\n",
      "Bleu score: (0.9845340483762279, 0.19983474910259247, 0.19674411454022314)\n",
      "\n",
      "sentence length: 110 - # of data: 9\n",
      "Bleu score: (1.0, 0.19231157004833221, 0.19231157004833221)\n",
      "\n",
      "sentence length: 120 - # of data: 5\n",
      "Bleu score: (1.0, 0.220932736992836, 0.220932736992836)\n",
      "\n",
      "sentence length: 130 - # of data: 6\n",
      "Bleu score: (0.835761691368506, 0.214230477809906, 0.17904562647709024)\n",
      "\n",
      "sentence length: 140 - # of data: 3\n",
      "Bleu score: (0.8290291181804004, 0.16690871119499207, 0.1383721816586114)\n",
      "\n",
      "sentence length: 150 - # of data: 2\n",
      "Bleu score: (0.4350321557586179, 0.09901238977909088, 0.043073573372410454)\n",
      "\n",
      "sentence length: 170 - # of data: 2\n",
      "Bleu score: (1.0, 0.23906713724136353, 0.23906713724136353)\n",
      "\n",
      "sentence length: 220 - # of data: 1\n",
      "Bleu score: (0.8913661439068313, 0.20122510194778442, 0.17936524318045563)\n",
      "\n"
     ]
    }
   ],
   "source": [
    "tick=10\n",
    "d=md.splitDatabySentenceLength(data, tick=tick, choice='ref')\n",
    "for key, value in sorted(d.items(), key=lambda x: x[0]):\n",
    "    print(f'sentence length: {key*tick} - # of data: {len(value)}')\n",
    "    arr = np.array(value)\n",
    "    score = bleu_score(arr[:,2], arr[:,1])\n",
    "    print(f'Bleu score: {score}\\n')"
   ]
  },
  {
   "cell_type": "code",
   "execution_count": 141,
   "metadata": {
    "scrolled": true
   },
   "outputs": [
    {
     "name": "stdout",
     "output_type": "stream",
     "text": [
      "0 3173\n",
      "1 8244\n",
      "2 8103\n",
      "3 5219\n",
      "4 2706\n",
      "5 1298\n",
      "6 593\n",
      "7 256\n",
      "8 128\n",
      "9 62\n",
      "10 32\n",
      "11 9\n",
      "12 5\n",
      "13 6\n",
      "14 3\n",
      "15 2\n",
      "17 2\n",
      "22 1\n"
     ]
    }
   ],
   "source": [
    "for key, value in sorted(d.items(), key=lambda x: x[0]):\n",
    "    print(key, len(value))"
   ]
  },
  {
   "cell_type": "code",
   "execution_count": 135,
   "metadata": {},
   "outputs": [
    {
     "data": {
      "text/plain": [
       "list"
      ]
     },
     "execution_count": 135,
     "metadata": {},
     "output_type": "execute_result"
    }
   ],
   "source": [
    "type(sorted(d))"
   ]
  },
  {
   "cell_type": "code",
   "execution_count": null,
   "metadata": {},
   "outputs": [],
   "source": []
  }
 ],
 "metadata": {
  "kernelspec": {
   "display_name": "Python 3",
   "language": "python",
   "name": "python3"
  },
  "language_info": {
   "codemirror_mode": {
    "name": "ipython",
    "version": 3
   },
   "file_extension": ".py",
   "mimetype": "text/x-python",
   "name": "python",
   "nbconvert_exporter": "python",
   "pygments_lexer": "ipython3",
   "version": "3.7.3"
  }
 },
 "nbformat": 4,
 "nbformat_minor": 2
}
