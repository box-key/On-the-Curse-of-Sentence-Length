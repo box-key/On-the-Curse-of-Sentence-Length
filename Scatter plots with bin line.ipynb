{
 "cells": [
  {
   "cell_type": "code",
   "execution_count": 1,
   "metadata": {},
   "outputs": [],
   "source": [
    "# Initialization Cell\n",
    "path = 'C:\\\\Users\\\\under\\\\Jupyter-Projects\\\\My-Research\\\\On-the-Curse-of-Sentence-Length\\\\data-bin\\\\out_balanced_transformer.txt'"
   ]
  },
  {
   "cell_type": "code",
   "execution_count": 2,
   "metadata": {},
   "outputs": [],
   "source": [
    "from utils import plots\n",
    "from utils import preprocess\n",
    "from utils import metrics as m\n",
    "from utils import splits"
   ]
  },
  {
   "cell_type": "code",
   "execution_count": 3,
   "metadata": {},
   "outputs": [
    {
     "name": "stdout",
     "output_type": "stream",
     "text": [
      "Edit Distance takes: 3 min 50 sec\n",
      "BLEU score takes: 7 min 46 sec\n"
     ]
    }
   ],
   "source": [
    "output = preprocess.loadFairseqOutput(path)\n",
    "factors = plots.get_factors(output)\n",
    "metrics = plots.get_metrics(data=output, n_gram=4)"
   ]
  },
  {
   "cell_type": "code",
   "execution_count": 4,
   "metadata": {},
   "outputs": [],
   "source": [
    "# bin by source sentence length\n",
    "bins_src_len = splits.merge_bin(bins=splits.splitDatabySentenceLength(triples=output, tick=10, choice='src'),\n",
    "                                target_bin=14)\n",
    "# bin by reference sentence length\n",
    "bins_ref_len = splits.merge_bin(bins=splits.splitDatabySentenceLength(triples=output, tick=10, choice='ref'),\n",
    "                                target_bin=14)\n",
    "# bin by # unks in source\n",
    "bins_src_num_unk = splits.merge_bin(bins=splits.splitDatabyNumberOfUnknowns(triples=output, tick=5, choice='src'), \n",
    "                                    target_bin=6)\n",
    "# bin by # unks in reference\n",
    "bins_ref_num_unk = splits.merge_bin(bins=splits.splitDatabyNumberOfUnknowns(triples=output, tick=5, choice='ref'), \n",
    "                                    target_bin=7)\n",
    "# bin by % unks in source\n",
    "bins_src_frac_unk = splits.merge_bin(bins=splits.splitDatabyFractionOfUnknowns(triples=output, tick=1, choice='src'), \n",
    "                                    target_bin=5)\n",
    "# bin by % unks in reference\n",
    "bins_ref_frac_unk = splits.merge_bin(bins=splits.splitDatabyFractionOfUnknowns(triples=output, tick=1, choice='ref'), \n",
    "                                    target_bin=5)"
   ]
  },
  {
   "cell_type": "markdown",
   "metadata": {},
   "source": [
    "# Source Length"
   ]
  },
  {
   "cell_type": "code",
   "execution_count": 5,
   "metadata": {},
   "outputs": [],
   "source": [
    "NUM_DATA, KEYS, BLEU, BLEU_pre, BLEU_bp, EDIT, EDIT_N = \\\n",
    "                  plots.calcAverage(data=bins_src_len, \n",
    "                                    edit_dist=m.edit_distance_by_word, \n",
    "                                    tick=10)\n",
    "keys = [int(x)+10 for x in KEYS]"
   ]
  },
  {
   "cell_type": "code",
   "execution_count": 1,
   "metadata": {},
   "outputs": [],
   "source": [
    "plots.plot_scatter_line(metrics_scatter=metrics, \n",
    "                        factor_scatter=factors[0], \n",
    "                        metrics_line=[EDIT, EDIT_N, BLEU_pre, BLEU_bp, BLEU], \n",
    "                        factor_line=keys,\n",
    "                        xlim=250,\n",
    "                        remove_zero=True)"
   ]
  },
  {
   "cell_type": "markdown",
   "metadata": {},
   "source": [
    "# Reference Length"
   ]
  },
  {
   "cell_type": "code",
   "execution_count": 13,
   "metadata": {},
   "outputs": [
    {
     "name": "stdout",
     "output_type": "stream",
     "text": [
      "0 - Source Length\n",
      "1 - # Unknowns in Source\n",
      "2 - % Unknowns in Source\n",
      "3 - Refenrence Length\n",
      "4 - # Unknowns in Reference\n",
      "5 - % Unknowns in Reference\n"
     ]
    }
   ],
   "source": [
    "for idx, f in enumerate(factors):\n",
    "    print(idx, '-', f[0])"
   ]
  },
  {
   "cell_type": "code",
   "execution_count": 7,
   "metadata": {},
   "outputs": [],
   "source": [
    "NUM_DATA, KEYS, BLEU, BLEU_pre, BLEU_bp, EDIT, EDIT_N = \\\n",
    "                  plots.calcAverage(data=bins_ref_len, \n",
    "                                    edit_dist=m.edit_distance_by_word, \n",
    "                                    tick=10)\n",
    "keys = [int(x)+10 for x in KEYS]"
   ]
  },
  {
   "cell_type": "code",
   "execution_count": 2,
   "metadata": {},
   "outputs": [],
   "source": [
    "plots.plot_scatter_line(metrics_scatter=metrics, \n",
    "                        factor_scatter=factors[3], \n",
    "                        metrics_line=[EDIT, EDIT_N, BLEU_pre, BLEU_bp, BLEU], \n",
    "                        factor_line=keys,\n",
    "                        xlim=250,\n",
    "                        remove_zero=True)"
   ]
  },
  {
   "cell_type": "markdown",
   "metadata": {},
   "source": [
    "# Num unks in source"
   ]
  },
  {
   "cell_type": "code",
   "execution_count": 11,
   "metadata": {},
   "outputs": [],
   "source": [
    "NUM_DATA, KEYS, BLEU, BLEU_pre, BLEU_bp, EDIT, EDIT_N = \\\n",
    "                  plots.calcAverage(data=bins_src_num_unk, \n",
    "                                    edit_dist=m.edit_distance_by_word, \n",
    "                                    tick=5)\n",
    "keys = [int(x)+5 for x in KEYS]"
   ]
  },
  {
   "cell_type": "code",
   "execution_count": 3,
   "metadata": {},
   "outputs": [],
   "source": [
    "plots.plot_scatter_line(metrics_scatter=metrics, \n",
    "                        factor_scatter=factors[1], \n",
    "                        metrics_line=[EDIT, EDIT_N, BLEU_pre, BLEU_bp, BLEU], \n",
    "                        factor_line=keys,\n",
    "                        xlim=100,\n",
    "                        remove_zero=True)"
   ]
  },
  {
   "cell_type": "markdown",
   "metadata": {},
   "source": [
    "# Num unks in reference"
   ]
  },
  {
   "cell_type": "code",
   "execution_count": 16,
   "metadata": {},
   "outputs": [],
   "source": [
    "NUM_DATA, KEYS, BLEU, BLEU_pre, BLEU_bp, EDIT, EDIT_N = \\\n",
    "                  plots.calcAverage(data=bins_ref_num_unk, \n",
    "                                    edit_dist=m.edit_distance_by_word, \n",
    "                                    tick=5)\n",
    "keys = [int(x)+5 for x in KEYS]"
   ]
  },
  {
   "cell_type": "code",
   "execution_count": 4,
   "metadata": {},
   "outputs": [],
   "source": [
    "plots.plot_scatter_line(metrics_scatter=metrics, \n",
    "                        factor_scatter=factors[4], \n",
    "                        metrics_line=[EDIT, EDIT_N, BLEU_pre, BLEU_bp, BLEU], \n",
    "                        factor_line=keys,\n",
    "                        xlim=100,\n",
    "                        remove_zero=True)"
   ]
  },
  {
   "cell_type": "markdown",
   "metadata": {},
   "source": [
    "# Frac unk in source"
   ]
  },
  {
   "cell_type": "code",
   "execution_count": 28,
   "metadata": {},
   "outputs": [],
   "source": [
    "NUM_DATA, KEYS, BLEU, BLEU_pre, BLEU_bp, EDIT, EDIT_N = \\\n",
    "                  plots.calcAverage(data=bins_src_frac_unk, \n",
    "                                    edit_dist=m.edit_distance_by_word, \n",
    "                                    tick=1)\n",
    "keys = [round(float(x)*0.1+0.1,1) for x in KEYS]"
   ]
  },
  {
   "cell_type": "code",
   "execution_count": 5,
   "metadata": {},
   "outputs": [],
   "source": [
    "plots.plot_scatter_line(metrics_scatter=metrics, \n",
    "                        factor_scatter=factors[2], \n",
    "                        metrics_line=[EDIT, EDIT_N, BLEU_pre, BLEU_bp, BLEU], \n",
    "                        factor_line=keys,\n",
    "                        xlim=1.0,\n",
    "                        remove_zero=True)"
   ]
  },
  {
   "cell_type": "markdown",
   "metadata": {},
   "source": [
    "# Frac unk in reference"
   ]
  },
  {
   "cell_type": "code",
   "execution_count": 31,
   "metadata": {},
   "outputs": [],
   "source": [
    "NUM_DATA, KEYS, BLEU, BLEU_pre, BLEU_bp, EDIT, EDIT_N = \\\n",
    "                  plots.calcAverage(data=bins_ref_frac_unk, \n",
    "                                    edit_dist=m.edit_distance_by_word, \n",
    "                                    tick=1)\n",
    "keys = [round(float(x)*0.1+0.1,1) for x in KEYS]"
   ]
  },
  {
   "cell_type": "code",
   "execution_count": 6,
   "metadata": {},
   "outputs": [],
   "source": [
    "plots.plot_scatter_line(metrics_scatter=metrics, \n",
    "                        factor_scatter=factors[5], \n",
    "                        metrics_line=[EDIT, EDIT_N, BLEU_pre, BLEU_bp, BLEU], \n",
    "                        factor_line=keys,\n",
    "                        xlim=1.0,\n",
    "                        remove_zero=True)"
   ]
  },
  {
   "cell_type": "code",
   "execution_count": null,
   "metadata": {},
   "outputs": [],
   "source": []
  }
 ],
 "metadata": {
  "kernelspec": {
   "display_name": "Python 3",
   "language": "python",
   "name": "python3"
  },
  "language_info": {
   "codemirror_mode": {
    "name": "ipython",
    "version": 3
   },
   "file_extension": ".py",
   "mimetype": "text/x-python",
   "name": "python",
   "nbconvert_exporter": "python",
   "pygments_lexer": "ipython3",
   "version": "3.7.3"
  }
 },
 "nbformat": 4,
 "nbformat_minor": 2
}
