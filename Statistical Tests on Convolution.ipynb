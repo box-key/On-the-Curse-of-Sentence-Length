{
 "cells": [
  {
   "cell_type": "code",
   "execution_count": 1,
   "metadata": {},
   "outputs": [],
   "source": [
    "from scipy.stats import kendalltau\n",
    "from scipy.stats import spearmanr\n",
    "\n",
    "from utils import splits\n",
    "from utils import plots\n",
    "from utils import metrics\n",
    "from utils import edit_distance\n",
    "from utils import preprocess"
   ]
  },
  {
   "cell_type": "code",
   "execution_count": 2,
   "metadata": {},
   "outputs": [
    {
     "data": {
      "text/plain": [
       "(49254, 3)"
      ]
     },
     "execution_count": 2,
     "metadata": {},
     "output_type": "execute_result"
    }
   ],
   "source": [
    "output = preprocess.loadFairseqOutput('C:\\\\Users\\\\under\\\\Jupyter-Projects\\\\My-Research\\\\On-the-Curse-of-Sentence-Length\\\\data-bin\\\\out_balanced_conv.txt')\n",
    "output.shape"
   ]
  },
  {
   "cell_type": "code",
   "execution_count": 3,
   "metadata": {},
   "outputs": [],
   "source": [
    "factors = plots.get_factors(output)"
   ]
  },
  {
   "cell_type": "code",
   "execution_count": 4,
   "metadata": {},
   "outputs": [
    {
     "name": "stdout",
     "output_type": "stream",
     "text": [
      "Edit Distance takes: 4 min 1 sec\n",
      "BLEU score takes: 8 min 18 sec\n"
     ]
    }
   ],
   "source": [
    "metrics = plots.get_metrics(data=output, n_gram=4)"
   ]
  },
  {
   "cell_type": "code",
   "execution_count": 1,
   "metadata": {},
   "outputs": [],
   "source": [
    "for metric in metrics:\n",
    "    print(f'###### Metric: {metric[0]} #####')\n",
    "    for factor in factors:\n",
    "        rho, s_p = spearmanr(factor[1], metric[1])\n",
    "        rho, s_p = round(rho, 5), round(s_p, 5)\n",
    "        tau, k_p = kendalltau(factor[1], metric[1])\n",
    "        tau, k_p = round(tau, 5), round(k_p, 5)\n",
    "        \n",
    "        print(f'Factor: {factor[0]}')\n",
    "        print(f'Spearman: coeffecient: {rho}, p-val: {s_p}')\n",
    "        print(f'Kendall: coeffecient: {tau}, p-val: {k_p}\\n')"
   ]
  },
  {
   "cell_type": "code",
   "execution_count": null,
   "metadata": {},
   "outputs": [],
   "source": []
  }
 ],
 "metadata": {
  "kernelspec": {
   "display_name": "Python 3",
   "language": "python",
   "name": "python3"
  },
  "language_info": {
   "codemirror_mode": {
    "name": "ipython",
    "version": 3
   },
   "file_extension": ".py",
   "mimetype": "text/x-python",
   "name": "python",
   "nbconvert_exporter": "python",
   "pygments_lexer": "ipython3",
   "version": "3.7.3"
  }
 },
 "nbformat": 4,
 "nbformat_minor": 2
}
