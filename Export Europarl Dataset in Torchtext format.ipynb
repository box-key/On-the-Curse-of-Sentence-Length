{
 "cells": [
  {
   "cell_type": "code",
   "execution_count": 1,
   "metadata": {},
   "outputs": [],
   "source": [
    "# Initialization Cell\n",
    "data_en = 'C:\\\\Users\\\\under\\\\Datasets\\\\Neural-Machine-Translation\\\\Europarl_fr-en\\\\europarl-v7.fr-en.en'\n",
    "data_fr = 'C:\\\\Users\\\\under\\\\Datasets\\\\Neural-Machine-Translation\\\\Europarl_fr-en\\\\europarl-v7.fr-en.fr'"
   ]
  },
  {
   "cell_type": "code",
   "execution_count": 2,
   "metadata": {},
   "outputs": [],
   "source": [
    "%load_ext autoreload\n",
    "%autoreload 2\n",
    "from models import MyTranslationDataset as mtd"
   ]
  },
  {
   "cell_type": "code",
   "execution_count": 3,
   "metadata": {},
   "outputs": [],
   "source": [
    "mtd.exportData(data_fr, \n",
    "               data_en, \n",
    "               exts=('.fr', '.en'), \n",
    "               proportions=[0.7,0.15,0.15],\n",
    "               export_path='C:\\\\Users\\\\under\\\\Datasets\\\\Neural-Machine-Translation\\\\Europarl_fr-en')"
   ]
  },
  {
   "cell_type": "code",
   "execution_count": 25,
   "metadata": {},
   "outputs": [
    {
     "name": "stdout",
     "output_type": "stream",
     "text": [
      "200772\n"
     ]
    }
   ],
   "source": [
    "mtd.exportData(data_fr, \n",
    "               data_en, \n",
    "               exts=('.fr', '.en'), \n",
    "               proportions=[0.7,0.15,0.15],\n",
    "               reduce_rate=0.1,\n",
    "               export_path='C:\\\\Users\\\\under\\\\Datasets\\\\Neural-Machine-Translation\\\\Europarl_fr-en_reduced')"
   ]
  },
  {
   "cell_type": "markdown",
   "metadata": {},
   "source": [
    "# Debugging"
   ]
  },
  {
   "cell_type": "code",
   "execution_count": 28,
   "metadata": {},
   "outputs": [
    {
     "name": "stdout",
     "output_type": "stream",
     "text": [
      "140540 140540\n"
     ]
    }
   ],
   "source": [
    "train_src,train_trg= \\\n",
    "    mtd.readFiles('C:\\\\Users\\\\under\\\\Datasets\\\\Neural-Machine-Translation\\\\Europarl_fr-en_reduced\\\\train.fr',\n",
    "                  'C:\\\\Users\\\\under\\\\Datasets\\\\Neural-Machine-Translation\\\\Europarl_fr-en_reduced\\\\train.en')\n",
    "print(len(train_src), len(train_trg))"
   ]
  },
  {
   "cell_type": "code",
   "execution_count": 29,
   "metadata": {},
   "outputs": [
    {
     "name": "stdout",
     "output_type": "stream",
     "text": [
      "Actuellement, deux centrales nucléaires sont prévues près des frontières de l'Union européenne en Biélorussie et dans la région de Kaliningrad.  \n",
      "\n",
      "Currently two power plants are planned close to the European Union's borders - in Belarus and the Kaliningrad region.  \n",
      "\n",
      " Nous devons placer la durabilité et la conservation au cœur de nos travaux.  \n",
      "\n",
      " We have to put sustainability and conservation at the heart of our agenda.  \n",
      "\n",
      " J' espère donc de tout cur que ses efforts seront récompensés à onze heures, car un rapport qui a nécessité tant de travail et qui devrait bénéficier d' un ralliement aussi large mérite de recevoir une majorité solide de la part de ce Parlement.  \n",
      "\n",
      " Consequently, I hope that her efforts will be rewarded at eleven o' clock, since a report in which so much hard work has been invested and about which there should be a large measure of agreement, must be assured of a sizeable majority in this Parliament.  \n",
      "\n"
     ]
    }
   ],
   "source": [
    "for i in range(3):\n",
    "    print(train_src[i],'\\n')\n",
    "    print(train_trg[i],'\\n')"
   ]
  },
  {
   "cell_type": "code",
   "execution_count": 22,
   "metadata": {},
   "outputs": [
    {
     "name": "stdout",
     "output_type": "stream",
     "text": [
      "30116 30116\n"
     ]
    }
   ],
   "source": [
    "val_src,val_trg= \\\n",
    "    mtd.readFiles('C:\\\\Users\\\\under\\\\Datasets\\\\Neural-Machine-Translation\\\\Europarl_fr-en_reduced\\\\val.fr',\n",
    "                  'C:\\\\Users\\\\under\\\\Datasets\\\\Neural-Machine-Translation\\\\Europarl_fr-en_reduced\\\\val.en')\n",
    "print(len(val_src), len(val_trg))"
   ]
  },
  {
   "cell_type": "code",
   "execution_count": 32,
   "metadata": {},
   "outputs": [
    {
     "name": "stdout",
     "output_type": "stream",
     "text": [
      "Je signale à M. Nielson, le représentant de la Commission de ce jour, que nous attendons de la Commission qu’elle respecte cet engagement. \n",
      "\n",
      "I say to Mr Nielson, the Commission's representative today, that we expect the Commission to deliver on this. \n",
      "\n",
      "(Pour les résultats des votes et autres détails les concernant: voir procès-verbal) \n",
      "\n",
      "(For the results and other details on the vote: see Minutes) \n",
      "\n",
      "Je pense que nous devrions nous concentrer sur deux propositions d'amendements, comme nous l'avons fait au sein de la commission économique, à savoir une large palette de revendications déjà énoncées: les lignes montantes, la reconnaissance des pièces par les aveugles et par les distributeurs automatiques, la sécurité contre la contrefaçon des pièces plus grandes. \n",
      "\n",
      "The scenario is clear. In my opinion we should concentrate on two amendments, as we did in the economic committee, i.e. first the whole range of demands which have already been mentioned: increasing size, recognition of coins by blind people, recognition of coins by machines, protecting the larger coins from fraud. \n",
      "\n"
     ]
    }
   ],
   "source": [
    "for i in range(3):\n",
    "    print(val_src[i],'\\n')\n",
    "    print(val_trg[i],'\\n')"
   ]
  },
  {
   "cell_type": "code",
   "execution_count": 30,
   "metadata": {},
   "outputs": [
    {
     "name": "stdout",
     "output_type": "stream",
     "text": [
      "30116 30116\n"
     ]
    }
   ],
   "source": [
    "test_src,test_trg= \\\n",
    "    mtd.readFiles('C:\\\\Users\\\\under\\\\Datasets\\\\Neural-Machine-Translation\\\\Europarl_fr-en_reduced\\\\test.fr',\n",
    "                  'C:\\\\Users\\\\under\\\\Datasets\\\\Neural-Machine-Translation\\\\Europarl_fr-en_reduced\\\\test.en')\n",
    "print(len(test_src), len(test_trg))"
   ]
  },
  {
   "cell_type": "code",
   "execution_count": 32,
   "metadata": {
    "scrolled": true
   },
   "outputs": [
    {
     "name": "stdout",
     "output_type": "stream",
     "text": [
      "Selon un médecin africain connu: \"S’il mourait chaque jour 1 450 hommes jeunes, soit 529 000 par an, de causes largement évitables, le Conseil de sécurité serait assurément saisi.\" Cependant, les risques sont loin d’être égaux.  \n",
      "\n",
      "According to a well-known African doctor, ‘If as many young men were dying each day, about 1 450 per day or 529 000 per year, from causes that were largely preventable, it would be a matter for the Security Council’ The risks involved, though, are far from equal.  \n",
      "\n",
      " L’Union pour l’Europe des nations soutient ce rapport.  \n",
      "\n",
      " The Union for Europe of the Nations supports this report.  \n",
      "\n",
      " C'est la dernière date possible si l'on veut que les régions bénéficient vraiment d'une aide en janvier.  \n",
      "\n",
      " It really is the last possible opportunity for us to grant regions assistance in January.  \n",
      "\n",
      " Il faut en finir avec les violences contre les femmes au sein de la famille et éliminer le phénomène négatif auquel Amnesty International fait référence dans son rapport du 30 mars de cette année.  \n",
      "\n",
      " There must be an end to violence against women in the family, and to eliminate the negative phenomena which Amnesty International referred to in its report of 30 March this year.  \n",
      "\n",
      " Nous avons soulevé ces problèmes lors de divers dialogues bilatéraux entre le Japon et l'UE au cours des dernières années, mais les progrès réalisés à ce jour sont limités.  \n",
      "\n",
      " We have raised these matters in the various bilateral dialogues between Japan and the EU over the past few years but little progress has been achieved so far.  \n",
      "\n"
     ]
    }
   ],
   "source": [
    "for i in range(5):\n",
    "    print(test_src[i],'\\n')\n",
    "    print(test_trg[i],'\\n')"
   ]
  },
  {
   "cell_type": "markdown",
   "metadata": {},
   "source": [
    "# Make sure torchtext can process datasets"
   ]
  },
  {
   "cell_type": "code",
   "execution_count": 35,
   "metadata": {},
   "outputs": [],
   "source": [
    "from torchtext.datasets import TranslationDataset\n",
    "from torchtext.data import Field\n",
    "\n",
    "SRC = Field(tokenize = lambda x: x.split(), \n",
    "            init_token = '<sos>', \n",
    "            eos_token = '<eos>', \n",
    "            lower = True)\n",
    "\n",
    "TRG = Field(tokenize = lambda x: x.split(), \n",
    "            init_token = '<sos>', \n",
    "            eos_token = '<eos>', \n",
    "            lower = True)"
   ]
  },
  {
   "cell_type": "code",
   "execution_count": 36,
   "metadata": {},
   "outputs": [],
   "source": [
    "train,val,test = TranslationDataset.splits(exts=('.fr','.en'),\n",
    "                                          fields=(SRC,TRG),\n",
    "                                          path='C:\\\\Users\\\\under\\\\Datasets\\\\Neural-Machine-Translation\\\\Europarl_fr-en')"
   ]
  },
  {
   "cell_type": "code",
   "execution_count": 37,
   "metadata": {},
   "outputs": [
    {
     "name": "stdout",
     "output_type": "stream",
     "text": [
      "1401931 300376 300376\n"
     ]
    }
   ],
   "source": [
    "print(len(train),len(val),len(test))"
   ]
  },
  {
   "cell_type": "markdown",
   "metadata": {},
   "source": [
    "# Test splitBySentenceLength method"
   ]
  },
  {
   "cell_type": "code",
   "execution_count": 50,
   "metadata": {},
   "outputs": [
    {
     "name": "stdout",
     "output_type": "stream",
     "text": [
      "The autoreload extension is already loaded. To reload it, use:\n",
      "  %reload_ext autoreload\n"
     ]
    }
   ],
   "source": [
    "%load_ext autoreload\n",
    "%autoreload 2\n",
    "from models import Model_Evaluation as me"
   ]
  },
  {
   "cell_type": "code",
   "execution_count": 51,
   "metadata": {},
   "outputs": [
    {
     "name": "stdout",
     "output_type": "stream",
     "text": [
      "491\n"
     ]
    }
   ],
   "source": [
    "a = me.splitDatabySentenceLength(pairs=test, tick=20, choice='src')"
   ]
  },
  {
   "cell_type": "code",
   "execution_count": 61,
   "metadata": {
    "scrolled": true
   },
   "outputs": [
    {
     "name": "stdout",
     "output_type": "stream",
     "text": [
      "115830\n",
      "133685\n",
      "39848\n",
      "8543\n",
      "1814\n",
      "438\n",
      "139\n",
      "39\n",
      "21\n",
      "8\n",
      "4\n",
      "3\n",
      "2\n",
      "0\n",
      "0\n",
      "0\n",
      "0\n",
      "0\n",
      "1\n",
      "0\n",
      "0\n",
      "0\n",
      "0\n",
      "0\n",
      "1\n"
     ]
    },
    {
     "data": {
      "text/plain": [
       "300376"
      ]
     },
     "execution_count": 61,
     "metadata": {},
     "output_type": "execute_result"
    }
   ],
   "source": [
    "sum = 0\n",
    "for i in a.values():\n",
    "    print(len(i))\n",
    "    sum += len(i)\n",
    "sum"
   ]
  },
  {
   "cell_type": "code",
   "execution_count": 59,
   "metadata": {},
   "outputs": [
    {
     "data": {
      "text/plain": [
       "300376"
      ]
     },
     "execution_count": 59,
     "metadata": {},
     "output_type": "execute_result"
    }
   ],
   "source": [
    "len(test)"
   ]
  },
  {
   "cell_type": "code",
   "execution_count": null,
   "metadata": {},
   "outputs": [],
   "source": []
  }
 ],
 "metadata": {
  "kernelspec": {
   "display_name": "Python 3",
   "language": "python",
   "name": "python3"
  },
  "language_info": {
   "codemirror_mode": {
    "name": "ipython",
    "version": 3
   },
   "file_extension": ".py",
   "mimetype": "text/x-python",
   "name": "python",
   "nbconvert_exporter": "python",
   "pygments_lexer": "ipython3",
   "version": "3.7.3"
  }
 },
 "nbformat": 4,
 "nbformat_minor": 2
}
